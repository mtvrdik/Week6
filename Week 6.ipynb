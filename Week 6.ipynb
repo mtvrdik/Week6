{
 "cells": [
  {
   "cell_type": "code",
   "execution_count": null,
   "metadata": {
    "collapsed": true
   },
   "outputs": [],
   "source": [
    "''''\n",
    "1.a\n",
    "Using the print() function only, get the wrong_add_function to print out where\n",
    "it is making a mistake, given the expected output for ex, \"we are making an error\n",
    "    in the loop\", which you would put near the loop.\n",
    "Structure the print() statement to show what the expected output ought to be\n",
    "via f-strings: ie \"The correct answer is supposed to be: [...]\".'''"
   ]
  },
  {
   "cell_type": "code",
   "execution_count": null,
   "outputs": [],
   "source": [
    "def wrong_add_function(arg1,arg2):\n",
    "    arg1_index=0\n",
    "    while arg1_index < len(arg1):\n",
    "        arg_2_sum = 0\n",
    "        for arg2_elements in arg2:\n",
    "            arg_2_sum = sum([arg1[arg1_index]+i for i in arg2])\n",
    "            correct_add = arg1[arg1_index] + arg2[arg1_index]\n",
    "            print(f\"We are making an error in the loop. The correct output is supposed to be: {correct_add}, but the output is {arg_2_sum}.\")\n",
    "        arg1[arg1_index]=arg_2_sum\n",
    "        arg1_index+=1\n",
    "    return arg1\n",
    "arg1 = [1,2,3]\n",
    "arg2 = [1,1,1]\n",
    "\n",
    "wrong_add_function(arg1, arg2)"
   ],
   "metadata": {
    "collapsed": false,
    "pycharm": {
     "is_executing": true
    }
   }
  },
  {
   "cell_type": "code",
   "execution_count": null,
   "outputs": [],
   "source": [
    "'''\n",
    "1.b\n",
    "Then, changing as little as possible, modify the function, using the same\n",
    "general structure to output the correct answer. Call this new function\n",
    "correct_add_function()'''"
   ],
   "metadata": {
    "collapsed": false
   }
  },
  {
   "cell_type": "code",
   "execution_count": null,
   "outputs": [],
   "source": [
    "def correct_add_function(arg1,arg2):\n",
    "    arg1_index=0\n",
    "    while arg1_index < len(arg1):\n",
    "        arg_2_sum = 0\n",
    "        for arg2_elements in arg2:\n",
    "            arg_2_sum = arg1[arg1_index]+ arg2[arg1_index]\n",
    "        arg1[arg1_index]=arg_2_sum\n",
    "        arg1_index+=1\n",
    "    return arg1\n",
    "\n",
    "arg1 = [1,2,3]\n",
    "arg2 = [1,1,2]\n",
    "correct_add_function(arg1, arg2)\n"
   ],
   "metadata": {
    "collapsed": false,
    "pycharm": {
     "is_executing": true
    }
   }
  },
  {
   "cell_type": "code",
   "execution_count": null,
   "outputs": [],
   "source": [
    "'''2.b\n",
    "Without modifying the string section code itself or the input directly,\n",
    "write a try, except block that catches the issue with the input below and\n",
    "returns an error message to the user, in case users give invalid inputs,\n",
    "(for example an input of [\"5\",\"2\", 5])\n",
    ": \"Your input argument [1 or 2] at element [n]\n",
    "is not of the expected type. Please change this and rerun. Name this function\n",
    "exception_add_function()'''"
   ],
   "metadata": {
    "collapsed": false
   }
  },
  {
   "cell_type": "code",
   "execution_count": null,
   "outputs": [],
   "source": [
    "def exception_add_function(arg1,arg2):\n",
    "    #numeric section\n",
    "    if sum([type(i)==int for i in arg1])==len(arg1) and \\\n",
    "      sum([type(i)==int for i in arg2])==len(arg2):\n",
    "        arg1_index=0\n",
    "        while arg1_index < len(arg1):\n",
    "            arg_2_sum = 0\n",
    "            for arg2_elements in arg2:\n",
    "                arg_2_sum = arg1[arg1_index] + arg2[arg1_index]\n",
    "            arg1[arg1_index]=arg_2_sum\n",
    "            arg1_index+=1\n",
    "        return arg1\n",
    "    #string section\n",
    "    elif sum([type(i)==str for i in arg1])==len(arg1) and \\\n",
    "      sum([type(i)==str for i in arg2])==len(arg2):\n",
    "        arg1_index=0\n",
    "        while arg1_index < len(arg1):\n",
    "            arg_2_sum = ''\n",
    "            for arg2_elements in arg2:\n",
    "                arg_2_sum += arg2_elements\n",
    "            arg1[arg1_index]=arg1[arg1_index]+str(arg_2_sum)\n",
    "            arg1_index+=1\n",
    "        return arg1\n",
    "    #try,except block\n",
    "    else:\n",
    "        try:\n",
    "            elements = []\n",
    "            if sum([type(i)==int for i in arg1]) < len(arg1) and sum([type(i)==int for i in arg2])==len(arg2):\n",
    "                for i in arg1:\n",
    "                    if type(i) != int:\n",
    "                        elements.append(i)\n",
    "                raise Exception(\"1\")\n",
    "            #arg2 has more integers, so we will want to change arg1\n",
    "            elif sum([type(i)==int for i in arg1]) == len(arg1) and sum([type(i)==int for i in arg2]) < len(arg2):\n",
    "                for i in arg2:\n",
    "                    if type(i) != int:\n",
    "                        elements.append(i)\n",
    "                raise Exception(\"2\")\n",
    "            #arg1 has more integers, so we will want to change arg2\n",
    "            elif sum([type(i)==str for i in arg1]) == len(arg1) and sum([type(i)==str for i in arg2]) < len(arg2):\n",
    "                for i in arg2:\n",
    "                    if type(i) != str:\n",
    "                        elements.append(i)\n",
    "                raise Exception(\"2\")\n",
    "            #now we are checking for strings and arg1 has more so we will want to change arg2\n",
    "            else:\n",
    "                print(\"All of your values must either be integers or strings.\")\n",
    "        except Exception as thisone:\n",
    "            print(f\"Your input argument {thisone}  at element(s) {elements}, is not of the expected type. Please change and rerun.\")\n",
    "\n",
    "arg_str_1=['1',2,'3']\n",
    "arg_str_2=[4,1, 1]\n",
    "\n",
    "exception_add_function(arg_str_1,arg_str_2)\n"
   ],
   "metadata": {
    "collapsed": false,
    "pycharm": {
     "is_executing": true
    }
   }
  },
  {
   "cell_type": "code",
   "execution_count": null,
   "outputs": [],
   "source": [
    "'''2.c\n",
    "Without modifying the string section code itself or the input directly,\n",
    "write a try, except block that catches the issue with the input below and\n",
    "gets it to process via the string section. IE, do not, outside the function,\n",
    "change the values of arg_str_1 or arg_str_2. Name this function\n",
    "correction_add_function(), i.e you will not be updating the wrong_add_function,\n",
    "you will simply handle the error of wrong inputs in a seperate function, you want\n",
    "the wrong_add_function to output its current result you are only bolstering the\n",
    "function for edge cases.'''"
   ],
   "metadata": {
    "collapsed": false
   }
  },
  {
   "cell_type": "code",
   "execution_count": 66,
   "outputs": [
    {
     "data": {
      "text/plain": "['1111', '2111', '3111']"
     },
     "execution_count": 66,
     "metadata": {},
     "output_type": "execute_result"
    }
   ],
   "source": [
    "def wrong_add_function(arg1,arg2):\n",
    "    #numeric section\n",
    "    if sum([type(i)==int for i in arg1])==len(arg1) and sum([type(i)==int for i in arg2])==len(arg2):\n",
    "        arg1_index=0\n",
    "        while arg1_index < len(arg1):\n",
    "            arg_2_sum = 0\n",
    "            for arg2_elements in arg2:\n",
    "                arg_2_sum = arg1[arg1_index]+ sum(arg2)\n",
    "            arg1[arg1_index]=arg_2_sum\n",
    "            arg1_index+=1\n",
    "        return arg1\n",
    "    #string section\n",
    "    elif sum([type(i)==str for i in arg1])==len(arg1) and sum([type(i)==str for i in arg2])==len(arg2):\n",
    "        arg1_index=0\n",
    "        while arg1_index < len(arg1):\n",
    "            arg_2_sum = ''\n",
    "            for arg2_elements in arg2:\n",
    "                arg_2_sum += arg2_elements\n",
    "            arg1[arg1_index]=arg1[arg1_index]+str(arg_2_sum)\n",
    "            arg1_index+=1\n",
    "        return arg1\n",
    "    #try/except block\n",
    "    else:\n",
    "        try:\n",
    "            if sum([type(i)==int for i in arg1]) < len(arg1) or sum([type(i)==int for i in arg2]) < len(arg2):\n",
    "                raise Exception\n",
    "            #not all integers\n",
    "            elif sum([type(i)==str for i in arg1]) < len(arg1) or sum([type(i)==str for i in arg2]) < len(arg2):\n",
    "                raise Exception\n",
    "            #not all strings\n",
    "            else:\n",
    "                print(\"All of your values must either be integers or strings.\")\n",
    "        except Exception:\n",
    "            return(correction_add_function(arg1, arg2))\n",
    "def correction_add_function(arg1, arg2):\n",
    "    for i in range(len(arg1)):\n",
    "        arg1[i] = str(arg1[i])\n",
    "        arg2[i] = str(arg2[i])\n",
    "    return(wrong_add_function(arg1, arg2))\n",
    "arg_str_1=[1,2,3]\n",
    "arg_str_2=[\"1\",\"1\",\"1\"]\n",
    "wrong_add_function(arg_str_1,arg_str_2)"
   ],
   "metadata": {
    "collapsed": false
   }
  }
 ],
 "metadata": {
  "kernelspec": {
   "display_name": "Python 3",
   "language": "python",
   "name": "python3"
  },
  "language_info": {
   "codemirror_mode": {
    "name": "ipython",
    "version": 2
   },
   "file_extension": ".py",
   "mimetype": "text/x-python",
   "name": "python",
   "nbconvert_exporter": "python",
   "pygments_lexer": "ipython2",
   "version": "2.7.6"
  }
 },
 "nbformat": 4,
 "nbformat_minor": 0
}
